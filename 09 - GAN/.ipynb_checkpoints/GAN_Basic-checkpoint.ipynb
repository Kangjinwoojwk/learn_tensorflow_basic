{
 "cells": [
  {
   "cell_type": "code",
   "execution_count": 10,
   "metadata": {},
   "outputs": [
    {
     "name": "stdout",
     "output_type": "stream",
     "text": [
      "Extracting ./mnist/data/train-images-idx3-ubyte.gz\n",
      "Extracting ./mnist/data/train-labels-idx1-ubyte.gz\n",
      "Extracting ./mnist/data/t10k-images-idx3-ubyte.gz\n",
      "Extracting ./mnist/data/t10k-labels-idx1-ubyte.gz\n"
     ]
    }
   ],
   "source": [
    "import tensorflow as tf\n",
    "import matplotlib.pyplot as plt\n",
    "import numpy as np\n",
    "from tensorflow.examples.tutorials.mnist import input_data\n",
    "mnist = input_data.read_data_sets('./mnist/data/', one_hot = True)"
   ]
  },
  {
   "cell_type": "code",
   "execution_count": 11,
   "metadata": {},
   "outputs": [],
   "source": [
    "total_epoch = 100\n",
    "batch_size = 100\n",
    "learning_rate = 0.0002\n",
    "n_hidden = 256\n",
    "n_input = 28 * 28\n",
    "n_noise = 128"
   ]
  },
  {
   "cell_type": "code",
   "execution_count": 12,
   "metadata": {},
   "outputs": [],
   "source": [
    "X = tf.placeholder(tf.float32, [None, n_input])\n",
    "# 비지도 학습이므로 Y 사용 없음, 구분자에 넣을 이미지가 실제 이미지와 생성 이미지 두개\n",
    "# 가짜 이미지는 노이즈에서 생성하므로 노이즈를 입력할 플레이스 홀더 Z추가\n",
    "Z = tf.placeholder(tf.float32, [None, n_noise])"
   ]
  },
  {
   "cell_type": "code",
   "execution_count": 13,
   "metadata": {},
   "outputs": [],
   "source": [
    "# 신경망에 사용할 변수 설정, 가중치와 편향은 은닉층으로 출력하기 위한 변수 들\n",
    "G_W1 = tf.Variable(tf.random_normal([n_noise, n_hidden], stddev=0.01))\n",
    "G_b1 = tf.Variable(tf.zeros([n_hidden]))\n",
    "# 두번째 가중치과 편향은 출력층에 사용할 변수들\n",
    "# 출력층에서 쓸 것이기에 실제 이미지 크기와 같아야 한다.\n",
    "G_W2 = tf.Variable(tf.random_normal([n_hidden, n_input], stddev=0.01))\n",
    "G_b2 = tf.Variable(tf.zeros([n_input]))"
   ]
  },
  {
   "cell_type": "code",
   "execution_count": 14,
   "metadata": {},
   "outputs": [],
   "source": [
    "# 신경망에 사용할 변수 설정, 은닉층은 생성자와 동일, 구분자는 얼마나 진짜 같나 0~1로\n",
    "D_W1 = tf.Variable(tf.random_normal([n_input, n_hidden],stddev=0.01))\n",
    "D_b1 = tf.Variable(tf.zeros([n_hidden]))\n",
    "D_W2 = tf.Variable(tf.random_normal([n_hidden, 1], stddev=0.01))\n",
    "D_b2 = tf.Variable(tf.zeros([1]))"
   ]
  },
  {
   "cell_type": "code",
   "execution_count": 15,
   "metadata": {},
   "outputs": [],
   "source": [
    "# 생성자 신경망 구성\n",
    "def generator(noise_z):\n",
    "    hidden = tf.nn.relu(tf.matmul(noise_z, G_W1) + G_b1)\n",
    "    output = tf.nn.sigmoid(tf.matmul(hidden, G_W2) + G_b2)\n",
    "    return output"
   ]
  },
  {
   "cell_type": "code",
   "execution_count": 16,
   "metadata": {},
   "outputs": [],
   "source": [
    "# 구분자 신경만 구성\n",
    "def discriminator(inputs):\n",
    "    hidden = tf.nn.relu(tf.matmul(inputs, D_W1) + D_b1)\n",
    "    output = tf.nn.sigmoid(tf.matmul(hidden, D_W2) + D_b2)\n",
    "    return output"
   ]
  },
  {
   "cell_type": "code",
   "execution_count": 17,
   "metadata": {},
   "outputs": [],
   "source": [
    "# 무작위 노이즈 제작 유틸리티 함수\n",
    "def get_noise(batch_size, n_noise):\n",
    "    return np.random.normal(size=(batch_size, n_noise))"
   ]
  },
  {
   "cell_type": "code",
   "execution_count": 18,
   "metadata": {},
   "outputs": [],
   "source": [
    "# 노이즈 Z이용해 가짜 이미지 만들 생성자 G\n",
    "# G, X 넣어 진짜인지 팝별하게 한다.\n",
    "G = generator(Z)\n",
    "D_gene = discriminator(G)\n",
    "D_real = discriminator(X)"
   ]
  },
  {
   "cell_type": "code",
   "execution_count": 19,
   "metadata": {},
   "outputs": [],
   "source": [
    "# 손실값, 이번에는 두개 필요\n",
    "# 생성자가 만든 이미지가 가짜라고 판단하게 하는 손실값과 진짜라고 판단하게 하는 손실값\n",
    "# 진짜 라고 판별하는 D_realdl 1에 가까울수록 성공적, D_gene이 0에 가까울 수록 성공적\n",
    "# 코드 간단 경찰학습\n",
    "loss_D = tf.reduce_mean(tf.log(D_real) + tf.log(1-D_gene))\n",
    "# 위조지폐범 학습\n",
    "loss_G = tf.reduce_mean(tf.log(D_gene))"
   ]
  },
  {
   "cell_type": "code",
   "execution_count": 20,
   "metadata": {},
   "outputs": [],
   "source": [
    "# 학습 제작, loss_D,loss_G 각각 구분자, 생성자 신경망 각각의 변수만 써야 한다.\n",
    "# 그래야 다른 것 학습 할때 상대것 안바껴\n",
    "D_var_list = [D_W1, D_b1, D_W2, D_b2]\n",
    "G_var_list = [G_W1, G_b1, G_W2, G_b2]"
   ]
  },
  {
   "cell_type": "code",
   "execution_count": 21,
   "metadata": {},
   "outputs": [],
   "source": [
    "# 논문 따르면 GAN은 loss를 최대화 해야 하지만 minimize밖에 없으니 - 붙인다.\n",
    "train_D = tf.train.AdamOptimizer(learning_rate).minimize(-loss_D, var_list=D_var_list)\n",
    "train_G = tf.train.AdamOptimizer(learning_rate).minimize(-loss_G, var_list=G_var_list)"
   ]
  },
  {
   "cell_type": "code",
   "execution_count": 22,
   "metadata": {
    "scrolled": true
   },
   "outputs": [
    {
     "name": "stdout",
     "output_type": "stream",
     "text": [
      "Epoch: 0000 D loss: -0.4851 G loss: -2.019\n",
      "Epoch: 0001 D loss: -0.5716 G loss: -2.009\n",
      "Epoch: 0002 D loss: -0.2445 G loss: -2.344\n",
      "Epoch: 0003 D loss: -0.309 G loss: -1.898\n",
      "Epoch: 0004 D loss: -0.2887 G loss: -1.97\n",
      "Epoch: 0005 D loss: -0.3268 G loss: -2.242\n",
      "Epoch: 0006 D loss: -0.3292 G loss: -2.884\n",
      "Epoch: 0007 D loss: -0.4214 G loss: -2.425\n",
      "Epoch: 0008 D loss: -0.3525 G loss: -2.146\n",
      "Epoch: 0009 D loss: -0.4893 G loss: -2.047\n",
      "Epoch: 0010 D loss: -0.2535 G loss: -2.613\n",
      "Epoch: 0011 D loss: -0.3432 G loss: -2.4\n",
      "Epoch: 0012 D loss: -0.2925 G loss: -2.631\n",
      "Epoch: 0013 D loss: -0.4281 G loss: -2.269\n",
      "Epoch: 0014 D loss: -0.3017 G loss: -2.868\n",
      "Epoch: 0015 D loss: -0.356 G loss: -2.616\n",
      "Epoch: 0016 D loss: -0.4014 G loss: -2.105\n",
      "Epoch: 0017 D loss: -0.4984 G loss: -2.391\n",
      "Epoch: 0018 D loss: -0.4656 G loss: -2.64\n",
      "Epoch: 0019 D loss: -0.4421 G loss: -2.66\n",
      "Epoch: 0020 D loss: -0.3438 G loss: -2.785\n",
      "Epoch: 0021 D loss: -0.5549 G loss: -2.385\n",
      "Epoch: 0022 D loss: -0.3254 G loss: -2.487\n",
      "Epoch: 0023 D loss: -0.4474 G loss: -2.658\n",
      "Epoch: 0024 D loss: -0.4282 G loss: -2.535\n",
      "Epoch: 0025 D loss: -0.4812 G loss: -2.586\n",
      "Epoch: 0026 D loss: -0.5161 G loss: -2.202\n",
      "Epoch: 0027 D loss: -0.3886 G loss: -2.424\n",
      "Epoch: 0028 D loss: -0.5384 G loss: -2.076\n",
      "Epoch: 0029 D loss: -0.5743 G loss: -2.414\n",
      "Epoch: 0030 D loss: -0.6235 G loss: -2.613\n",
      "Epoch: 0031 D loss: -0.3631 G loss: -2.537\n",
      "Epoch: 0032 D loss: -0.506 G loss: -2.286\n",
      "Epoch: 0033 D loss: -0.5752 G loss: -2.808\n",
      "Epoch: 0034 D loss: -0.4602 G loss: -2.484\n",
      "Epoch: 0035 D loss: -0.4484 G loss: -2.414\n",
      "Epoch: 0036 D loss: -0.4557 G loss: -2.489\n",
      "Epoch: 0037 D loss: -0.4746 G loss: -2.87\n",
      "Epoch: 0038 D loss: -0.6592 G loss: -2.131\n",
      "Epoch: 0039 D loss: -0.5494 G loss: -2.285\n",
      "Epoch: 0040 D loss: -0.4929 G loss: -2.216\n",
      "Epoch: 0041 D loss: -0.5627 G loss: -2.23\n",
      "Epoch: 0042 D loss: -0.5907 G loss: -2.241\n",
      "Epoch: 0043 D loss: -0.4749 G loss: -2.245\n",
      "Epoch: 0044 D loss: -0.6679 G loss: -2.343\n",
      "Epoch: 0045 D loss: -0.6451 G loss: -2.17\n",
      "Epoch: 0046 D loss: -0.5725 G loss: -2.278\n",
      "Epoch: 0047 D loss: -0.5495 G loss: -2.415\n",
      "Epoch: 0048 D loss: -0.776 G loss: -2.301\n",
      "Epoch: 0049 D loss: -0.8001 G loss: -2.074\n",
      "Epoch: 0050 D loss: -0.7596 G loss: -1.971\n",
      "Epoch: 0051 D loss: -0.8081 G loss: -2.003\n",
      "Epoch: 0052 D loss: -0.7868 G loss: -1.66\n",
      "Epoch: 0053 D loss: -0.7144 G loss: -1.974\n",
      "Epoch: 0054 D loss: -0.7043 G loss: -1.78\n",
      "Epoch: 0055 D loss: -0.8929 G loss: -1.934\n",
      "Epoch: 0056 D loss: -0.6921 G loss: -1.835\n",
      "Epoch: 0057 D loss: -0.7223 G loss: -1.909\n",
      "Epoch: 0058 D loss: -0.7755 G loss: -1.914\n",
      "Epoch: 0059 D loss: -0.7647 G loss: -1.967\n",
      "Epoch: 0060 D loss: -0.6516 G loss: -1.874\n",
      "Epoch: 0061 D loss: -0.93 G loss: -1.803\n",
      "Epoch: 0062 D loss: -0.6344 G loss: -1.86\n",
      "Epoch: 0063 D loss: -0.8977 G loss: -1.764\n",
      "Epoch: 0064 D loss: -0.6991 G loss: -2.218\n",
      "Epoch: 0065 D loss: -0.7431 G loss: -1.794\n",
      "Epoch: 0066 D loss: -0.8824 G loss: -1.781\n",
      "Epoch: 0067 D loss: -0.7866 G loss: -2.045\n",
      "Epoch: 0068 D loss: -0.9394 G loss: -1.869\n",
      "Epoch: 0069 D loss: -0.7007 G loss: -1.967\n",
      "Epoch: 0070 D loss: -0.7403 G loss: -1.814\n",
      "Epoch: 0071 D loss: -0.5705 G loss: -2.097\n",
      "Epoch: 0072 D loss: -0.6998 G loss: -2.04\n",
      "Epoch: 0073 D loss: -0.7268 G loss: -1.864\n",
      "Epoch: 0074 D loss: -0.8117 G loss: -1.724\n",
      "Epoch: 0075 D loss: -0.7082 G loss: -1.824\n",
      "Epoch: 0076 D loss: -0.8793 G loss: -1.719\n",
      "Epoch: 0077 D loss: -0.7929 G loss: -1.677\n",
      "Epoch: 0078 D loss: -0.6668 G loss: -2.187\n",
      "Epoch: 0079 D loss: -0.8357 G loss: -1.605\n",
      "Epoch: 0080 D loss: -0.8972 G loss: -2.067\n",
      "Epoch: 0081 D loss: -0.7206 G loss: -1.986\n",
      "Epoch: 0082 D loss: -0.6661 G loss: -1.865\n",
      "Epoch: 0083 D loss: -0.6212 G loss: -1.9\n",
      "Epoch: 0084 D loss: -0.7445 G loss: -1.842\n",
      "Epoch: 0085 D loss: -0.6542 G loss: -1.955\n",
      "Epoch: 0086 D loss: -0.6202 G loss: -1.911\n",
      "Epoch: 0087 D loss: -0.7229 G loss: -1.947\n",
      "Epoch: 0088 D loss: -0.7446 G loss: -1.988\n",
      "Epoch: 0089 D loss: -0.642 G loss: -2.095\n",
      "Epoch: 0090 D loss: -0.6579 G loss: -2.013\n",
      "Epoch: 0091 D loss: -0.7372 G loss: -2.117\n",
      "Epoch: 0092 D loss: -0.7285 G loss: -1.873\n",
      "Epoch: 0093 D loss: -0.81 G loss: -2.07\n",
      "Epoch: 0094 D loss: -0.7646 G loss: -1.886\n",
      "Epoch: 0095 D loss: -0.7147 G loss: -1.822\n",
      "Epoch: 0096 D loss: -0.5312 G loss: -2.156\n",
      "Epoch: 0097 D loss: -0.6523 G loss: -2.076\n",
      "Epoch: 0098 D loss: -0.7986 G loss: -1.853\n",
      "Epoch: 0099 D loss: -0.6282 G loss: -1.993\n",
      "최적화 완료!\n"
     ]
    }
   ],
   "source": [
    "# 학습 코드 작성, 두개를 학습 해야 하므로 코드 추가\n",
    "# 세션 설정\n",
    "sess = tf.Session()\n",
    "sess.run(tf.global_variables_initializer())\n",
    "# 결괏값을 받을 변수 설정, 미니배치로 학습 반복, 구분자는 X값을, 생성자는 노이즈인 Z값 받는다.\n",
    "total_batch = int(mnist.train.num_examples / batch_size)\n",
    "loss_val_D, loss_val_G = 0, 0\n",
    "for epoch in range(total_epoch):\n",
    "    for i in range(total_batch):\n",
    "        batch_xs, batch_ys = mnist.train.next_batch(batch_size)\n",
    "        noise = get_noise(batch_size, n_noise)\n",
    "        \n",
    "        _, loss_val_D = sess.run([train_D, loss_D], feed_dict = {X:batch_xs, Z:noise})\n",
    "        _, loss_val_G = sess.run([train_G, loss_G], feed_dict={Z:noise})\n",
    "    print('Epoch:', '%04d' % epoch, 'D loss: {:.4}'.format(loss_val_D), 'G loss: {:.4}'.format(loss_val_G))\n",
    "    if epoch == 0 or (epoch + 1) % 10 ==0:\n",
    "        sample_size = 10\n",
    "        noise = get_noise(sample_size, n_noise)\n",
    "        samples = sess.run(G, feed_dict={Z:noise})\n",
    "        \n",
    "        fig, ax = plt.subplots(1, sample_size, figsize=(sample_size, 1))\n",
    "        \n",
    "        for i in range(sample_size):\n",
    "            ax[i].set_axis_off()\n",
    "            ax[i].imshow(np.reshape(samples[i], (28, 28)))\n",
    "        \n",
    "        plt.savefig('samples/{}.png'.format(str(epoch).zfill(3)),bbox_inches='tight')\n",
    "        plt.close(fig)\n",
    "        \n",
    "print('최적화 완료!')"
   ]
  }
 ],
 "metadata": {
  "kernelspec": {
   "display_name": "Python 3",
   "language": "python",
   "name": "python3"
  },
  "language_info": {
   "codemirror_mode": {
    "name": "ipython",
    "version": 3
   },
   "file_extension": ".py",
   "mimetype": "text/x-python",
   "name": "python",
   "nbconvert_exporter": "python",
   "pygments_lexer": "ipython3",
   "version": "3.6.7"
  }
 },
 "nbformat": 4,
 "nbformat_minor": 2
}
