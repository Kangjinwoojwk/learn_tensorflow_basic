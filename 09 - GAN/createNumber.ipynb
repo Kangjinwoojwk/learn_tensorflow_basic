{
 "cells": [
  {
   "cell_type": "code",
   "execution_count": 1,
   "metadata": {},
   "outputs": [
    {
     "name": "stderr",
     "output_type": "stream",
     "text": [
      "WARNING: Logging before flag parsing goes to stderr.\n",
      "W0718 11:36:46.130363 10944 deprecation.py:323] From <ipython-input-1-8d6b7429cfd3>:6: read_data_sets (from tensorflow.contrib.learn.python.learn.datasets.mnist) is deprecated and will be removed in a future version.\n",
      "Instructions for updating:\n",
      "Please use alternatives such as official/mnist/dataset.py from tensorflow/models.\n",
      "W0718 11:36:46.130363 10944 deprecation.py:323] From c:\\python36\\lib\\site-packages\\tensorflow\\contrib\\learn\\python\\learn\\datasets\\mnist.py:260: maybe_download (from tensorflow.contrib.learn.python.learn.datasets.base) is deprecated and will be removed in a future version.\n",
      "Instructions for updating:\n",
      "Please write your own downloading logic.\n",
      "W0718 11:36:46.130363 10944 deprecation.py:323] From c:\\python36\\lib\\site-packages\\tensorflow\\contrib\\learn\\python\\learn\\datasets\\mnist.py:262: extract_images (from tensorflow.contrib.learn.python.learn.datasets.mnist) is deprecated and will be removed in a future version.\n",
      "Instructions for updating:\n",
      "Please use tf.data to implement this functionality.\n"
     ]
    },
    {
     "name": "stdout",
     "output_type": "stream",
     "text": [
      "Extracting ./mnist/data/train-images-idx3-ubyte.gz\n"
     ]
    },
    {
     "name": "stderr",
     "output_type": "stream",
     "text": [
      "W0718 11:36:46.356442 10944 deprecation.py:323] From c:\\python36\\lib\\site-packages\\tensorflow\\contrib\\learn\\python\\learn\\datasets\\mnist.py:267: extract_labels (from tensorflow.contrib.learn.python.learn.datasets.mnist) is deprecated and will be removed in a future version.\n",
      "Instructions for updating:\n",
      "Please use tf.data to implement this functionality.\n",
      "W0718 11:36:46.358438 10944 deprecation.py:323] From c:\\python36\\lib\\site-packages\\tensorflow\\contrib\\learn\\python\\learn\\datasets\\mnist.py:110: dense_to_one_hot (from tensorflow.contrib.learn.python.learn.datasets.mnist) is deprecated and will be removed in a future version.\n",
      "Instructions for updating:\n",
      "Please use tf.one_hot on tensors.\n",
      "W0718 11:36:46.401290 10944 deprecation.py:323] From c:\\python36\\lib\\site-packages\\tensorflow\\contrib\\learn\\python\\learn\\datasets\\mnist.py:290: DataSet.__init__ (from tensorflow.contrib.learn.python.learn.datasets.mnist) is deprecated and will be removed in a future version.\n",
      "Instructions for updating:\n",
      "Please use alternatives such as official/mnist/dataset.py from tensorflow/models.\n"
     ]
    },
    {
     "name": "stdout",
     "output_type": "stream",
     "text": [
      "Extracting ./mnist/data/train-labels-idx1-ubyte.gz\n",
      "Extracting ./mnist/data/t10k-images-idx3-ubyte.gz\n",
      "Extracting ./mnist/data/t10k-labels-idx1-ubyte.gz\n"
     ]
    }
   ],
   "source": [
    "import tensorflow as tf\n",
    "import matplotlib.pyplot as plt\n",
    "import numpy as np\n",
    "\n",
    "from tensorflow.examples.tutorials.mnist import input_data\n",
    "mnist = input_data.read_data_sets('./mnist/data/', one_hot=True)\n",
    "\n",
    "total_epoch = 100\n",
    "batch_size = 100\n",
    "n_hidden = 256\n",
    "n_input = 28 * 28\n",
    "n_noise = 128\n",
    "n_class = 10\n",
    "\n",
    "X = tf.placeholder(tf.float32, [None, n_input])\n",
    "# 어라? Y? Y는 해당 숫자를 힌트로 넣어주는 용도로 쓸 것\n",
    "Y = tf.placeholder(tf.float32, [None, n_class])\n",
    "Z = tf.placeholder(tf.float32, [None, n_noise])"
   ]
  },
  {
   "cell_type": "code",
   "execution_count": 2,
   "metadata": {},
   "outputs": [],
   "source": [
    "# 신경망 구성 tf.layers를 써보자, 변수 선언필요 없다. tf.variable_scope로 스코프 지정가능\n",
    "def generator(noise, labels):\n",
    "    with tf.variable_scope('generator'):\n",
    "        inputs = tf.concat([noise, labels], 1)\n",
    "        # 은닉층 제작\n",
    "        hidden = tf.layers.dense(inputs, n_hidden, activation=tf.nn.relu)\n",
    "        # 출력층 제작\n",
    "        output=tf.layers.dense(hidden, n_input, activation=tf.nn.sigmoid)\n",
    "    return output"
   ]
  },
  {
   "cell_type": "code",
   "execution_count": 3,
   "metadata": {},
   "outputs": [],
   "source": [
    "# 생설자와 마찬가지로 구분자 신경망 제작, 구분자는 진짜, 가짜 판별때 똑같은 변수 사용\n",
    "def discriminator(inputs, labels, reuse=None):\n",
    "    with tf.variable_scope('discriminator') as scope:\n",
    "        if reuse:\n",
    "            scope.reuse_variables()\n",
    "        inputs = tf.concat([inputs, labels], 1)\n",
    "        hidden = tf.layers.dense(inputs, n_hidden, activation=tf.nn.relu)\n",
    "        # 출력값에 활성화 안쓰는건 손실값 계산에 sigmoid_cross_entropy_with_logits함수를 쓰기 위함\n",
    "        output = tf.layers.dense(hidden, 1, activation=None)\n",
    "    return output"
   ]
  },
  {
   "cell_type": "code",
   "execution_count": 4,
   "metadata": {},
   "outputs": [],
   "source": [
    "# 노이즈 균등불포 생성\n",
    "def get_noise(batch_size, n_noise):\n",
    "    return np.random.uniform(-1., 1., size=[batch_size, n_noise])"
   ]
  },
  {
   "cell_type": "code",
   "execution_count": 5,
   "metadata": {},
   "outputs": [
    {
     "name": "stderr",
     "output_type": "stream",
     "text": [
      "W0718 11:36:48.472099 10944 deprecation.py:323] From <ipython-input-2-15380f1475ff>:6: dense (from tensorflow.python.layers.core) is deprecated and will be removed in a future version.\n",
      "Instructions for updating:\n",
      "Use keras.layers.dense instead.\n",
      "W0718 11:36:48.521017 10944 deprecation.py:506] From c:\\python36\\lib\\site-packages\\tensorflow\\python\\ops\\init_ops.py:1251: calling VarianceScaling.__init__ (from tensorflow.python.ops.init_ops) with dtype is deprecated and will be removed in a future version.\n",
      "Instructions for updating:\n",
      "Call initializer instance with the dtype argument instead of passing it to the constructor\n"
     ]
    }
   ],
   "source": [
    "# 생성자 구성, 진짜 이미지 데이터와 생성자가 만든 이미지 데이터 이용 구분자 제작\n",
    "# 생성자에 레이블정보 추가로 추후 레이블 정보에 해당하는 이미지 생성 하도록 유도\n",
    "# 이미지 구분자에서 ㅅ용한 변수들 재사용하도록 reuse옵션 True\n",
    "G = generator(Z, Y)\n",
    "D_real = discriminator(X, Y)\n",
    "D_gene = discriminator(G, Y, True)"
   ]
  },
  {
   "cell_type": "code",
   "execution_count": 19,
   "metadata": {},
   "outputs": [],
   "source": [
    "# D_real은 1에 가깝게 D_gene은 0에 가깝게, sigmoid_cross_entropy_with_ligits함수 이용하면 코드 간편하게 작성가능\n",
    "loss_D_real = tf.reduce_mean(tf.nn.sigmoid_cross_entropy_with_logits(logits=D_real, labels=tf.ones_like(D_real)))\n",
    "loss_D_gene = tf.reduce_mean(tf.nn.sigmoid_cross_entropy_with_logits(logits=D_gene, labels=tf.zeros_like(D_gene)))\n",
    "# 둘을 합친 것 이 값을 최소화 하면 구분자 학습\n",
    "# D_real은 1에 가까워야 되서 결과값만큼 1로 채운 것 loss_D_real에\n",
    "# D_gene은 0에 가까워야 되서 결과값만큼 0으로 채워 것 loss_D_gene에\n",
    "# 넣은 뒤 비교\n",
    "loss_D = loss_D_real + loss_D_gene"
   ]
  },
  {
   "cell_type": "code",
   "execution_count": 20,
   "metadata": {},
   "outputs": [],
   "source": [
    "# loss_G구하기, 생성자 학습 손실값, sigmoid_cross_entropy_with_logits함수 이용 D_gene이 1에 가깝게\n",
    "loss_G = tf.reduce_mean(tf.nn.sigmoid_cross_entropy_with_logits(logits=D_gene, labels=tf.ones_like(D_gene)))"
   ]
  },
  {
   "cell_type": "code",
   "execution_count": 21,
   "metadata": {},
   "outputs": [],
   "source": [
    "# tf.get_collection함수 이용, 각 스코프에서 사용된 변수 가져온 뒤 최적화에 사용할 손실함수화 넣어 학습 모델 구성\n",
    "vars_D = tf.get_collection(tf.GraphKeys.TRAINABLE_VARIABLES, scope='discriminator')\n",
    "vars_G = tf.get_collection(tf.GraphKeys.TRAINABLE_VARIABLES, scope='generator')\n",
    "train_D = tf.train.AdamOptimizer().minimize(loss_D, var_list=vars_D)\n",
    "train_G = tf.train.AdamOptimizer().minimize(loss_G, var_list=vars_G)"
   ]
  },
  {
   "cell_type": "code",
   "execution_count": 22,
   "metadata": {},
   "outputs": [
    {
     "name": "stdout",
     "output_type": "stream",
     "text": [
      "Epoch: 0000 D loss: 0.004842 G loss: 7.502\n",
      "Epoch: 0001 D loss: 0.01061 G loss: 7.059\n",
      "Epoch: 0002 D loss: 0.0004952 G loss: 10.56\n",
      "Epoch: 0003 D loss: 0.001814 G loss: 10.45\n",
      "Epoch: 0004 D loss: 0.0004315 G loss: 12.01\n",
      "Epoch: 0005 D loss: 7.08e-05 G loss: 11.17\n",
      "Epoch: 0006 D loss: 0.0002703 G loss: 9.362\n",
      "Epoch: 0007 D loss: 1.476e-05 G loss: 12.48\n",
      "Epoch: 0008 D loss: 2.012e-05 G loss: 12.47\n",
      "Epoch: 0009 D loss: 8.364e-05 G loss: 11.59\n",
      "Epoch: 0010 D loss: 3.559e-06 G loss: 13.03\n",
      "Epoch: 0011 D loss: 2.802e-06 G loss: 13.34\n",
      "Epoch: 0012 D loss: 6.112e-05 G loss: 11.97\n",
      "Epoch: 0013 D loss: 6.243e-06 G loss: 13.02\n",
      "Epoch: 0014 D loss: 8.291e-06 G loss: 17.26\n",
      "Epoch: 0015 D loss: 1.636e-06 G loss: 14.99\n",
      "Epoch: 0016 D loss: 5.352e-06 G loss: 17.93\n",
      "Epoch: 0017 D loss: 2.607e-06 G loss: 14.53\n",
      "Epoch: 0018 D loss: 1.144e-05 G loss: 12.68\n",
      "Epoch: 0019 D loss: 2.768e-06 G loss: 13.65\n",
      "Epoch: 0020 D loss: 8.53e-10 G loss: 21.66\n",
      "Epoch: 0021 D loss: 7.287e-07 G loss: 14.7\n",
      "Epoch: 0022 D loss: 4.198e-06 G loss: 14.46\n",
      "Epoch: 0023 D loss: 0.0006986 G loss: 18.52\n",
      "Epoch: 0024 D loss: 8.732e-06 G loss: 12.16\n",
      "Epoch: 0025 D loss: 3.324e-06 G loss: 13.55\n",
      "Epoch: 0026 D loss: 4.85e-06 G loss: 13.84\n",
      "Epoch: 0027 D loss: 2.14e-06 G loss: 15.26\n",
      "Epoch: 0028 D loss: 4.628e-07 G loss: 15.39\n",
      "Epoch: 0029 D loss: 9.025e-07 G loss: 14.24\n",
      "Epoch: 0030 D loss: 3.719e-07 G loss: 15.49\n",
      "Epoch: 0031 D loss: 1.696e-07 G loss: 16.34\n",
      "Epoch: 0032 D loss: 6.458e-08 G loss: 17.65\n",
      "Epoch: 0033 D loss: 6.77e-07 G loss: 17.3\n",
      "Epoch: 0034 D loss: 3.101e-06 G loss: 14.93\n",
      "Epoch: 0035 D loss: 6.544e-07 G loss: 16.38\n",
      "Epoch: 0036 D loss: 1.345e-06 G loss: 15.56\n",
      "Epoch: 0037 D loss: 1.995e-07 G loss: 17.5\n",
      "Epoch: 0038 D loss: 1.715e-07 G loss: 16.6\n",
      "Epoch: 0039 D loss: 3.785e-05 G loss: 25.3\n",
      "Epoch: 0040 D loss: 2.507e-10 G loss: 26.51\n",
      "Epoch: 0041 D loss: 2.416e-06 G loss: 14.96\n",
      "Epoch: 0042 D loss: 1.991e-08 G loss: 19.67\n",
      "Epoch: 0043 D loss: 4.274e-08 G loss: 18.33\n",
      "Epoch: 0044 D loss: 1.261e-06 G loss: 15.6\n",
      "Epoch: 0045 D loss: 1.118e-06 G loss: 15.21\n",
      "Epoch: 0046 D loss: 4.052e-08 G loss: 19.13\n",
      "Epoch: 0047 D loss: 1.828e-07 G loss: 17.5\n",
      "Epoch: 0048 D loss: 7.243e-08 G loss: 17.89\n",
      "Epoch: 0049 D loss: 4.054e-07 G loss: 18.74\n",
      "Epoch: 0050 D loss: 7.029e-07 G loss: 15.47\n",
      "Epoch: 0051 D loss: 2.66e-07 G loss: 17.36\n",
      "Epoch: 0052 D loss: 1.845e-11 G loss: 47.43\n",
      "Epoch: 0053 D loss: 1.115e-06 G loss: 16.82\n",
      "Epoch: 0054 D loss: 7.892e-07 G loss: 15.18\n",
      "Epoch: 0055 D loss: 2.404e-06 G loss: 14.49\n",
      "Epoch: 0056 D loss: 1.488e-07 G loss: 17.23\n",
      "Epoch: 0057 D loss: 4.912e-07 G loss: 16.78\n",
      "Epoch: 0058 D loss: 6.619e-09 G loss: 20.82\n",
      "Epoch: 0059 D loss: 2.449e-09 G loss: 21.69\n",
      "Epoch: 0060 D loss: 5.624e-09 G loss: 20.37\n",
      "Epoch: 0061 D loss: 4.015e-09 G loss: 20.78\n",
      "Epoch: 0062 D loss: 9.836e-10 G loss: 21.55\n",
      "Epoch: 0063 D loss: 1.837e-09 G loss: 21.31\n",
      "Epoch: 0064 D loss: 9.717e-10 G loss: 22.38\n",
      "Epoch: 0065 D loss: 5.026e-10 G loss: 23.24\n",
      "Epoch: 0066 D loss: 1.92e-09 G loss: 22.41\n",
      "Epoch: 0067 D loss: 1.193e-07 G loss: 20.67\n",
      "Epoch: 0068 D loss: 5.556e-09 G loss: 21.5\n",
      "Epoch: 0069 D loss: 5.69e-08 G loss: 22.96\n",
      "Epoch: 0070 D loss: 9.159e-06 G loss: 15.98\n",
      "Epoch: 0071 D loss: 3.634e-13 G loss: 40.93\n",
      "Epoch: 0072 D loss: 4.441e-07 G loss: 22.15\n",
      "Epoch: 0073 D loss: 7.414e-07 G loss: 20.41\n",
      "Epoch: 0074 D loss: 1.899e-11 G loss: 29.4\n",
      "Epoch: 0075 D loss: 3.688e-07 G loss: 20.36\n",
      "Epoch: 0076 D loss: 4.989e-07 G loss: 83.75\n",
      "Epoch: 0077 D loss: 5.044e-08 G loss: 22.92\n",
      "Epoch: 0078 D loss: 4.355e-07 G loss: 20.67\n",
      "Epoch: 0079 D loss: 2.424e-07 G loss: 19.22\n",
      "Epoch: 0080 D loss: 1.886e-08 G loss: 21.0\n",
      "Epoch: 0081 D loss: 3.662e-09 G loss: 21.65\n",
      "Epoch: 0082 D loss: 2.062e-09 G loss: 22.17\n",
      "Epoch: 0083 D loss: 1.09e-08 G loss: 21.76\n",
      "Epoch: 0084 D loss: 6.832e-09 G loss: 22.36\n",
      "Epoch: 0085 D loss: 9.907e-09 G loss: 22.19\n",
      "Epoch: 0086 D loss: 9.314e-09 G loss: 24.76\n",
      "Epoch: 0087 D loss: 9.359e-09 G loss: 25.74\n",
      "Epoch: 0088 D loss: 7.426e-06 G loss: 21.19\n",
      "Epoch: 0089 D loss: 6.281e-08 G loss: 23.76\n",
      "Epoch: 0090 D loss: 1.001e-07 G loss: 21.43\n",
      "Epoch: 0091 D loss: 8.845e-12 G loss: 38.92\n",
      "Epoch: 0092 D loss: 1.219e-06 G loss: 17.89\n",
      "Epoch: 0093 D loss: 4.099e-06 G loss: 20.48\n",
      "Epoch: 0094 D loss: 2.433e-08 G loss: 23.32\n",
      "Epoch: 0095 D loss: 1.207e-06 G loss: 20.16\n",
      "Epoch: 0096 D loss: 1.551e-08 G loss: 23.88\n",
      "Epoch: 0097 D loss: 5.233e-08 G loss: 22.33\n",
      "Epoch: 0098 D loss: 3.965e-09 G loss: 22.24\n",
      "Epoch: 0099 D loss: 3.976e-09 G loss: 23.6\n",
      "최적화 완료!\n"
     ]
    }
   ],
   "source": [
    "# 학습코드, 플레이스 홀더 Y입력값이 batch_ys인 것에 주의\n",
    "sess = tf.Session()\n",
    "sess.run(tf.global_variables_initializer())\n",
    "total_batch = int(mnist.train.num_examples / batch_size)\n",
    "loss_val_D, loss_val_G = 0, 0\n",
    "for epoch in range(total_epoch):\n",
    "    for i in range(total_batch):\n",
    "        batch_xs, batch_ys = mnist.train.next_batch(batch_size)\n",
    "        noise = get_noise(batch_size, n_noise)\n",
    "        \n",
    "        _, loss_val_D = sess.run([train_D, loss_D], feed_dict={X: batch_xs, Y: batch_ys, Z: noise})\n",
    "        _, loss_val_G = sess.run([train_G, loss_G], feed_dict={Y: batch_ys, Z: noise})\n",
    "    \n",
    "    print('Epoch:', '%04d'%epoch, 'D loss: {:.4}'.format(loss_val_D), 'G loss: {:.4}'.format(loss_val_G))\n",
    "    \n",
    "    # 학습 중간 중간에 생성자로 만든 이미지를 저장하는 코드를 작성\n",
    "    if epoch == 0 or (epoch + 1) % 10 == 0:\n",
    "        sample_size = 10\n",
    "        noise = get_noise(sample_size, n_noise)\n",
    "        samples = sess.run(G, feed_dict={Y: mnist.test.labels[:sample_size], Z: noise})\n",
    "        \n",
    "        fig, ax = plt.subplots(2, sample_size, figsize=(sample_size,2))\n",
    "        \n",
    "        for i in range(sample_size):\n",
    "            ax[0][i].set_axis_off()\n",
    "            ax[1][i].set_axis_off()\n",
    "            \n",
    "            ax[0][i].imshow(np.reshape(mnist.test.images[i], (28, 28)))\n",
    "            ax[1][i].imshow(np.reshape(samples[i], (28,28)))\n",
    "        plt.savefig('samples2/{}_2.png'.format(str(epoch).zfill(3)), bbox_inches='tight')\n",
    "        plt.close(fig)\n",
    "print('최적화 완료!')"
   ]
  }
 ],
 "metadata": {
  "kernelspec": {
   "display_name": "Python 3",
   "language": "python",
   "name": "python3"
  },
  "language_info": {
   "codemirror_mode": {
    "name": "ipython",
    "version": 3
   },
   "file_extension": ".py",
   "mimetype": "text/x-python",
   "name": "python",
   "nbconvert_exporter": "python",
   "pygments_lexer": "ipython3",
   "version": "3.6.7"
  }
 },
 "nbformat": 4,
 "nbformat_minor": 2
}
