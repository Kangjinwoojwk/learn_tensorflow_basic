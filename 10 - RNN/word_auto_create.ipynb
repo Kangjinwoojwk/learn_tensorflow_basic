{
 "cells": [
  {
   "cell_type": "code",
   "execution_count": 1,
   "metadata": {},
   "outputs": [],
   "source": [
    "# 알파벳 순서에서 인덱스를 원-핫 인코딩으로 취한다.\n",
    "import tensorflow as tf\n",
    "import numpy as np\n",
    "\n",
    "char_arr = ['a', 'b', 'c', 'd', 'e', 'f', 'g',\n",
    "           'h', 'i', 'j', 'k', 'l', 'm', 'n',\n",
    "            'o', 'p', 'q', 'r', 's', 't', 'u',\n",
    "           'v', 'w', 'x', 'y', 'z']\n",
    "num_dic = {n:i for i, n in enumerate(char_arr)}\n",
    "dic_len = len(num_dic)"
   ]
  },
  {
   "cell_type": "code",
   "execution_count": 2,
   "metadata": {},
   "outputs": [],
   "source": [
    "# 학습용 단어\n",
    "seq_data = ['word', 'wood', 'deep', 'cold', 'cool', 'load', 'love', 'kiss', 'kind']"
   ]
  },
  {
   "cell_type": "code",
   "execution_count": 11,
   "metadata": {},
   "outputs": [],
   "source": [
    "# 학습에 사용할 수 있는 형식으로 변환해주는 유틸리티 함수 작성\n",
    "# 입력값으로 단어의 세글자 알파벳 인덱스를 구한 배열제작\n",
    "# 출력용으로 마지막 글자의 알파벳 인덱스 \n",
    "# 입력값 원-핫 인코딩 변환\n",
    "# 실측값 인코딩 않고 그대로 사용, 손실 ㅎ마수로 다른 것 사용, 자동 변환\n",
    "def make_batch(seq_data):\n",
    "    input_batch = []\n",
    "    target_batch = []\n",
    "    for seq in seq_data:\n",
    "        input = [num_dic[n] for n in seq[:-1]]\n",
    "        target = num_dic[seq[-1]]\n",
    "        input_batch.append(np.eye(dic_len)[input])\n",
    "        target_batch.append(target)\n",
    "        \n",
    "    return input_batch, target_batch"
   ]
  },
  {
   "cell_type": "code",
   "execution_count": 4,
   "metadata": {},
   "outputs": [],
   "source": [
    "# 신경망 구현\n",
    "learning_rate = 0.01\n",
    "n_hidden = 128\n",
    "total_epoch = 30\n",
    "n_step = 3\n",
    "n_input = n_class = dic_len"
   ]
  },
  {
   "cell_type": "code",
   "execution_count": 5,
   "metadata": {},
   "outputs": [],
   "source": [
    "# 첫 3글자만 단계적 학습하므로 n_step은 3\n",
    "# 본격적 신경망 모델 구성\n",
    "X = tf.placeholder(tf.float32, [None, n_step, n_input])\n",
    "Y = tf.placeholder(tf.int32, [None])\n",
    "\n",
    "# 원-핫 아닌 인덱스 그대로 사용, 값 하나뿐인 1차원 배열 입력\n",
    "W = tf.Variable(tf.random_normal([n_hidden, n_class]))\n",
    "b = tf.Variable(tf.random_normal([n_class]))"
   ]
  },
  {
   "cell_type": "code",
   "execution_count": 6,
   "metadata": {},
   "outputs": [
    {
     "name": "stderr",
     "output_type": "stream",
     "text": [
      "WARNING: Logging before flag parsing goes to stderr.\n",
      "W0729 18:04:23.496326  8980 deprecation.py:323] From <ipython-input-6-ec2aadbc5025>:2: BasicLSTMCell.__init__ (from tensorflow.python.ops.rnn_cell_impl) is deprecated and will be removed in a future version.\n",
      "Instructions for updating:\n",
      "This class is equivalent as tf.keras.layers.LSTMCell, and will be replaced by that in Tensorflow 2.0.\n"
     ]
    }
   ],
   "source": [
    "# 두개 RNN 셀 생성, 심층 신경망 제작, DropoutWrapper로 과적합 방지\n",
    "cell1 = tf.nn.rnn_cell.BasicLSTMCell(n_hidden)\n",
    "cell1 = tf.nn.rnn_cell.DropoutWrapper(cell1, output_keep_prob=0.5)\n",
    "cell2 = tf.nn.rnn_cell.BasicLSTMCell(n_hidden)"
   ]
  },
  {
   "cell_type": "code",
   "execution_count": 7,
   "metadata": {},
   "outputs": [
    {
     "name": "stderr",
     "output_type": "stream",
     "text": [
      "W0729 18:04:23.999767  8980 deprecation.py:323] From <ipython-input-7-c4901e494a5a>:2: MultiRNNCell.__init__ (from tensorflow.python.ops.rnn_cell_impl) is deprecated and will be removed in a future version.\n",
      "Instructions for updating:\n",
      "This class is equivalent as tf.keras.layers.StackedRNNCells, and will be replaced by that in Tensorflow 2.0.\n",
      "W0729 18:04:24.001044  8980 deprecation.py:323] From <ipython-input-7-c4901e494a5a>:4: dynamic_rnn (from tensorflow.python.ops.rnn) is deprecated and will be removed in a future version.\n",
      "Instructions for updating:\n",
      "Please use `keras.layers.RNN(cell)`, which is equivalent to this API\n",
      "W0729 18:04:24.328240  8980 deprecation.py:506] From c:\\python36\\lib\\site-packages\\tensorflow\\python\\ops\\init_ops.py:1251: calling VarianceScaling.__init__ (from tensorflow.python.ops.init_ops) with dtype is deprecated and will be removed in a future version.\n",
      "Instructions for updating:\n",
      "Call initializer instance with the dtype argument instead of passing it to the constructor\n",
      "W0729 18:04:24.340848  8980 deprecation.py:506] From c:\\python36\\lib\\site-packages\\tensorflow\\python\\ops\\rnn_cell_impl.py:738: calling Zeros.__init__ (from tensorflow.python.ops.init_ops) with dtype is deprecated and will be removed in a future version.\n",
      "Instructions for updating:\n",
      "Call initializer instance with the dtype argument instead of passing it to the constructor\n"
     ]
    }
   ],
   "source": [
    "# 함수 조합하여 심층 순환 신경 망 제작\n",
    "multi_cell = tf.nn.rnn_cell.MultiRNNCell([cell1, cell2])\n",
    "\n",
    "outputs, status = tf.nn.dynamic_rnn(multi_cell, X, dtype = tf.float32)"
   ]
  },
  {
   "cell_type": "code",
   "execution_count": 8,
   "metadata": {},
   "outputs": [],
   "source": [
    "# 출력층 제작\n",
    "outputs = tf.transpose(outputs, [1, 0, 2])\n",
    "outputs = outputs[-1]\n",
    "model = tf.matmul(outputs, W) + b"
   ]
  },
  {
   "cell_type": "code",
   "execution_count": 9,
   "metadata": {},
   "outputs": [],
   "source": [
    "# 손실함수와 최적화로 구성 마무리\n",
    "cost = tf.reduce_mean(tf.nn.sparse_softmax_cross_entropy_with_logits(logits=model,labels=Y))\n",
    "optimizer = tf.train.AdamOptimizer(learning_rate).minimize(cost)"
   ]
  },
  {
   "cell_type": "code",
   "execution_count": 13,
   "metadata": {},
   "outputs": [
    {
     "name": "stdout",
     "output_type": "stream",
     "text": [
      "Epoch: 0001 cost =  3.778096\n",
      "Epoch: 0002 cost =  2.775152\n",
      "Epoch: 0003 cost =  1.340362\n",
      "Epoch: 0004 cost =  1.470062\n",
      "Epoch: 0005 cost =  0.732277\n",
      "Epoch: 0006 cost =  1.012854\n",
      "Epoch: 0007 cost =  0.897003\n",
      "Epoch: 0008 cost =  0.402283\n",
      "Epoch: 0009 cost =  0.391643\n",
      "Epoch: 0010 cost =  0.685368\n",
      "Epoch: 0011 cost =  0.527102\n",
      "Epoch: 0012 cost =  0.183882\n",
      "Epoch: 0013 cost =  0.302258\n",
      "Epoch: 0014 cost =  0.280659\n",
      "Epoch: 0015 cost =  0.173113\n",
      "Epoch: 0016 cost =  0.103174\n",
      "Epoch: 0017 cost =  0.169920\n",
      "Epoch: 0018 cost =  0.134919\n",
      "Epoch: 0019 cost =  0.059107\n",
      "Epoch: 0020 cost =  0.049404\n",
      "Epoch: 0021 cost =  0.049807\n",
      "Epoch: 0022 cost =  0.048226\n",
      "Epoch: 0023 cost =  0.038015\n",
      "Epoch: 0024 cost =  0.062969\n",
      "Epoch: 0025 cost =  0.059888\n",
      "Epoch: 0026 cost =  0.031552\n",
      "Epoch: 0027 cost =  0.026134\n",
      "Epoch: 0028 cost =  0.004014\n",
      "Epoch: 0029 cost =  0.012228\n",
      "Epoch: 0030 cost =  0.003386\n",
      "최적화 완료!\n"
     ]
    }
   ],
   "source": [
    "# 신경망 학습 코드, make_batch 이용, seq_data에 저장한 입력, 실츨 분리 최적화 실해\n",
    "sess = tf.Session()\n",
    "sess.run(tf.global_variables_initializer())\n",
    "input_batch, target_batch = make_batch(seq_data)\n",
    "\n",
    "for epoch in range(total_epoch):\n",
    "    _, loss = sess.run([optimizer, cost], feed_dict={X:input_batch, Y: target_batch})\n",
    "    \n",
    "    print('Epoch:', '%04d'%(epoch +1), 'cost = ', '{:.6f}'.format(loss))\n",
    "    \n",
    "print('최적화 완료!')"
   ]
  },
  {
   "cell_type": "code",
   "execution_count": 15,
   "metadata": {},
   "outputs": [],
   "source": [
    "# 예측 단어를 정확도와 함께 출력 하도록 만들자\n",
    "prediction = tf.cast(tf.argmax(model, 1), tf.int32)\n",
    "prediction_check = tf.equal(prediction, Y)\n",
    "accuracy = tf.reduce_mean(tf.cast(prediction_check, tf.float32))"
   ]
  },
  {
   "cell_type": "code",
   "execution_count": 16,
   "metadata": {},
   "outputs": [],
   "source": [
    "# 예측 모델 돌려보자\n",
    "input_batch, target_batch = make_batch(seq_data)\n",
    "predict, accuracy_val = sess.run([prediction, accuracy], feed_dict={X:input_batch, Y:target_batch})"
   ]
  },
  {
   "cell_type": "code",
   "execution_count": 17,
   "metadata": {},
   "outputs": [
    {
     "name": "stdout",
     "output_type": "stream",
     "text": [
      "\n",
      "=== 예측 결과 ===\n",
      "입력값: ['wor ', 'woo ', 'dee ', 'col ', 'coo ', 'loa ', 'lov ', 'kis ', 'kin ']\n",
      "예측값: ['word', 'wood', 'deep', 'cold', 'cool', 'load', 'love', 'kiss', 'kind']\n",
      "정확도: 1.0\n"
     ]
    }
   ],
   "source": [
    "predict_words = []\n",
    "for idx, val in enumerate(seq_data):\n",
    "    last_char = char_arr[predict[idx]]\n",
    "    predict_words.append(val[:3] + last_char)\n",
    "    \n",
    "print('\\n=== 예측 결과 ===')\n",
    "print('입력값:', [w[:3] + ' ' for w in seq_data])\n",
    "print('예측값:', predict_words)\n",
    "print('정확도:', accuracy_val)"
   ]
  }
 ],
 "metadata": {
  "kernelspec": {
   "display_name": "Python 3",
   "language": "python",
   "name": "python3"
  },
  "language_info": {
   "codemirror_mode": {
    "name": "ipython",
    "version": 3
   },
   "file_extension": ".py",
   "mimetype": "text/x-python",
   "name": "python",
   "nbconvert_exporter": "python",
   "pygments_lexer": "ipython3",
   "version": "3.6.7"
  }
 },
 "nbformat": 4,
 "nbformat_minor": 2
}
